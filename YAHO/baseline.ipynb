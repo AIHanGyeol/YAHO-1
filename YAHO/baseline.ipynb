{
 "cells": [
  {
   "cell_type": "markdown",
   "metadata": {},
   "source": [
    "![img](https://mediapipe.dev/images/mobile/pose_tracking_full_body_landmarks.png)"
   ]
  },
  {
   "cell_type": "code",
   "execution_count": 2,
   "metadata": {},
   "outputs": [],
   "source": [
    "import cv2\n",
    "import mediapipe as mp\n",
    "import time\n",
    "import matplotlib.pyplot as plt"
   ]
  },
  {
   "cell_type": "code",
   "execution_count": 2,
   "metadata": {},
   "outputs": [],
   "source": [
    "def get_landmarks(right_arm , left_arm):\n",
    "    pass"
   ]
  },
  {
   "cell_type": "code",
   "execution_count": 3,
   "metadata": {},
   "outputs": [],
   "source": [
    "mp_drawing = mp.solutions.drawing_utils\n",
    "mp_drawing_styles = mp.solutions.drawing_styles\n",
    "mp_pose = mp.solutions.pose\n",
    "\n",
    "# For webcam input:\n",
    "get_left_point = [11,13,15]\n",
    "get_right_point = [12,14,16]\n",
    "\n",
    "start_time = int(time.time())\n",
    "\n",
    "cap = cv2.VideoCapture(0)  #웹캠 키기.\n",
    "with mp_pose.Pose(\n",
    "    min_detection_confidence=0.5,\n",
    "    min_tracking_confidence=0.5) as pose:\n",
    "  while cap.isOpened():\n",
    "    success, image = cap.read()\n",
    "    if not success:\n",
    "      print(\"Ignoring empty camera frame.\")\n",
    "      # If loading a video, use 'break' instead of 'continue'.\n",
    "      continue\n",
    "\n",
    "    # To improve performance, optionally mark the image as not writeable to\n",
    "    # pass by reference.\n",
    "    image.flags.writeable = False\n",
    "    image = cv2.cvtColor(image, cv2.COLOR_BGR2RGB)\n",
    "    results = pose.process(image)\n",
    "    \n",
    "    left_arm = list()\n",
    "    right_arm = list()\n",
    "    # print(results.pose_world_landmarks.landmark[:20])\n",
    "    \n",
    "    x , y = image.shape[1] , image.shape[0]\n",
    "\n",
    "    for i in get_left_point:\n",
    "      left_arm.append(results.pose_landmarks.landmark[i])\n",
    "\n",
    "    for i in get_right_point:\n",
    "      right_arm.append(results.pose_landmarks.landmark[i])\n",
    "    left_arm_point = (int(left_arm[-1].x * x) , int(left_arm[-1].y * y))\n",
    "    right_arm_point =  (int(right_arm[-1].x * x) , int(right_arm[-1].y * y))\n",
    "    \n",
    "    try:\n",
    "      cv2.line(image ,left_arm_point , right_arm_point , (0,255,0) )\n",
    "    except Exception as e:\n",
    "      print(e)\n",
    "    \n",
    "    \n",
    "    \n",
    "\n",
    "    # Draw the pose annotation on the image.\n",
    "    image.flags.writeable = True\n",
    "    image = cv2.cvtColor(image, cv2.COLOR_RGB2BGR)\n",
    "    mp_drawing.draw_landmarks(\n",
    "        image,\n",
    "        results.pose_landmarks,  #점 나오게 함.\n",
    "        mp_pose.POSE_CONNECTIONS,  #점들을 연결.\n",
    "        # landmark_drawing_spec=mp_drawing_styles.get_default_pose_landmarks_style() #다양한 point color 로 그림.\n",
    "        )\n",
    "\n",
    "    # Flip the image horizontally for a selfie-view display.\n",
    "    cv2.imshow('MediaPipe Pose', cv2.flip(image, 1))\n",
    "    if cv2.waitKey(5) & 0xFF == 27:\n",
    "      cv2.waitKey(0)\n",
    "      cv2.destroyAllWindows()\n",
    "      break\n",
    "    \n",
    "    #10초 지나면 꺼짐.\n",
    "    # elif int(time.time()) - start_time == 10:\n",
    "      # print(image.shape) \n",
    "      # cv2.destroyAllWindows()\n",
    "      # break\n",
    "\n",
    "\n",
    "cv2.destroyAllWindows()    \n",
    "cap.release()"
   ]
  },
  {
   "cell_type": "code",
   "execution_count": 31,
   "metadata": {},
   "outputs": [
    {
     "data": {
      "text/plain": [
       "1667959534"
      ]
     },
     "execution_count": 31,
     "metadata": {},
     "output_type": "execute_result"
    }
   ],
   "source": [
    "int(time.time())"
   ]
  },
  {
   "cell_type": "code",
   "execution_count": 134,
   "metadata": {},
   "outputs": [
    {
     "data": {
      "image/png": "[encoded data removed]",
      "text/plain": [
       "<Figure size 640x480 with 1 Axes>"
      ]
     },
     "metadata": {},
     "output_type": "display_data"
    }
   ],
   "source": [
    "ratio = [34, 32, 16, 18]\n",
    "labels = ['Apple', 'Banana', 'Melon', 'Grapes']\n",
    "explode = [0.05, 0.05, 0.05, 0.05]  ##중심에서 벗어나는 정도.\n",
    "wedgeprops={'width': 0.7, 'edgecolor': 'w', 'linewidth': 5}  ##부채꼴 모양 설정.\n",
    "                                                                # wedgeprops는 부채꼴 영역의 스타일을 설정합니다.\n",
    "                                                                # wedgeprops 딕셔너리의 ‘width’, ‘edgecolor’, ‘linewidth’ 키를 이용해서 각각 부채꼴 영역의 너비 (반지름에 대한 비율),\n",
    "                                                                # 테두리의 색상, 테두리 선의 너비를 설정했습니다.\n",
    "colors = ['silver', 'gold', 'whitesmoke', 'lightgray']  #이거 아래에 바로 집어 넣으면 됨.\n",
    "\n",
    "# plt.pie(ratio, labels=labels, autopct='%.1f%%')\n",
    "# plt.show()\n",
    "\n",
    "\n",
    "plt.pie(x =  ratio, labels=labels, autopct='%.1f%%', startangle=260, counterclock=False  , wedgeprops=wedgeprops)\n",
    "plt.show()\n",
    "\n",
    "# startangle는 부채꼴이 그려지는 시작 각도를 설정합니다.\n",
    "# counterclock=False로 설정하면 시계 방향 순서로 부채꼴 영역이 표시됩니다.\n",
    "# shadow를 True로 설정하면, 파이 차트에 그림자가 표시됩니다."
   ]
  },
  {
   "cell_type": "code",
   "execution_count": 15,
   "metadata": {},
   "outputs": [
    {
     "name": "stdout",
     "output_type": "stream",
     "text": [
      "plt.pie(x = ratio, labels=labels, autopct=\"%.1f%%\", startangle=260, counterclock=False , wedgeprops = wedgeprops)\n"
     ]
    },
    {
     "data": {
      "image/png": "[encoded data removed]",
      "text/plain": [
       "<Figure size 640x480 with 1 Axes>"
      ]
     },
     "metadata": {},
     "output_type": "display_data"
    }
   ],
   "source": [
    "def make_plt_pie(make_plt):\n",
    "    base_code = 'plt.pie(x = ratio, labels=labels, autopct=\"%.1f%%\", startangle=260, counterclock=False '\n",
    "    \n",
    "    for i in make_plt:\n",
    "        if make_plt[i] == False:\n",
    "            continue\n",
    "        else:\n",
    "            jj = ', '+i + ' = ' + i\n",
    "            base_code += jj\n",
    "    base_code += ')'\n",
    "    print(base_code)\n",
    "    return base_code\n",
    "\n",
    "def one_graph(ratio , labels , colors = None , explode = None , wedgeprops = None):\n",
    "\n",
    "    if len(ratio) != len(labels):\n",
    "        return 'ratio , labels The number must be the same'\n",
    "\n",
    "    \n",
    "    make_plt = dict()\n",
    "    for i in ['colors' , 'explode' , 'wedgeprops' ]: #, 'wedgeprops'\n",
    "        if eval(i) == None:\n",
    "            make_plt[i] = False\n",
    "        else:\n",
    "            make_plt[i] = True\n",
    "    \n",
    "    # wedgeprops = {'width': 0.7}  #가운데 비어두기. linewidth 는 5만큼 떨어짐. 'edgecolor': 'w'  edgcolor 은 사이드 컬러가 w임.\n",
    "    \n",
    "    explodes = list()\n",
    "    if explode != None:\n",
    "        if len(explode) == 2:\n",
    "            if explode[1] == 'defult':\n",
    "                for i in range(len(ratio)):\n",
    "                    explodes.append(explode[0])\n",
    "            elif explode[1] == 'big':          ##큰거 튀어나오게.\n",
    "                for i in range(len(ratio)):\n",
    "                    if max(ratio) == ratio[i]:\n",
    "                        explodes.append(explode[0] + 0.2)\n",
    "                    else:\n",
    "                        explodes.append(explode[0])\n",
    "\n",
    "            elif explode[1] == 'small':  ##작은거 튀어나오게.\n",
    "                for i in range(len(ratio)):\n",
    "                    if min(ratio) == ratio[i]:\n",
    "                        explodes.append(explode[0] + 0.2)\n",
    "                    else:\n",
    "                        explodes.append(explode[0])\n",
    "            else:\n",
    "                return 'pop_out , Please choose None or big or small'\n",
    "        else:\n",
    "            for i in range(len(ratio)):\n",
    "                explodes.append(explode[0])\n",
    "    explode = explodes\n",
    "    plt_result = make_plt_pie(make_plt)\n",
    "    eval(plt_result)\n",
    "    plt.show()\n",
    "\n",
    "\n",
    "ratio = [34, 32, 12, 15 , 11  , 100]\n",
    "labels = ['Apple', 'Banana', 'Melon', 'Grapes' , 'ha' , 'ho']\n",
    "colors = ['silver', 'gold', 'whitesmoke', 'lightgray']\n",
    "linewidth = 3\n",
    "edgecolor = 'w'\n",
    "width = 0.7\n",
    "\n",
    "\n",
    "one_graph(ratio = ratio ,labels =  labels  , wedgeprops= {'width': width , 'edgecolor' : edgecolor , 'linewidth': linewidth}) #, wedgeprops = {'width': 0.7, 'edgecolor': 'w', 'linewidth': 5}\n",
    "    "
   ]
  },
  {
   "cell_type": "code",
   "execution_count": 65,
   "metadata": {},
   "outputs": [
    {
     "data": {
      "text/plain": [
       "10"
      ]
     },
     "execution_count": 65,
     "metadata": {},
     "output_type": "execute_result"
    }
   ],
   "source": [
    "jj = 10\n",
    "eval('jj')"
   ]
  },
  {
   "cell_type": "code",
   "execution_count": 1,
   "metadata": {},
   "outputs": [],
   "source": [
    "import one_graph as on\n",
    "\n",
    "\n",
    "# on.one_graph(ratio = ratio ,labels =  labels  ,explode=[0.00 , 'small'], wedgeprops= {'width': width , 'edgecolor' : edgecolor , 'linewidth': linewidth})\n"
   ]
  },
  {
   "cell_type": "code",
   "execution_count": 2,
   "metadata": {},
   "outputs": [
    {
     "name": "stdout",
     "output_type": "stream",
     "text": [
      "This is one_graph.py manual\n",
      "The function one_graph parameter type is ratio , labels , explode , wedgeprops\n",
      "ratio 는 그래프의 값을 의미 합니다. list 형식으로 넣습니다. 예 [30, 40 , 13 , 10]\n",
      "label 은 각 값의 이름을 의미합니다. list 형식으로 넣습니다. 예 [\"사과\" , \"배\" , \"수박\" , \"두리안\"]\n",
      "ratio 와 label 은 개수가 같아야 합니다.\n",
      "colors 를 추가 하고 싶다면 컬러를 list 형식으로 ratio 개수와 같게 넣어야 합니다. 예 [\"silver\", \"gold\", \"whitesmoke\", \"lightgray\"]\n",
      "wedgeprops 는 dict 형태로 넣습니다. 예 wedgeprops= {\"width\": 0.7, \"edgecolor\" : \"w\" , \"linewidth\": 2}\n",
      "wedgeprops 의 width 는 가운데가 뚫린 원 형태의 그래프를 출력합니다. 값이 클수록 가운데 원이 작아집니다.\n",
      "wedgeprops 의 edgecolor 은 그래프 가장자리 색깔을 의미 합니다. \n",
      "wedgeprops 의 linewidth 는 가장자리 색깔의 두깨를 의미합니다.\n"
     ]
    }
   ],
   "source": [
    "on.manual()"
   ]
  },
  {
   "cell_type": "code",
   "execution_count": null,
   "metadata": {},
   "outputs": [],
   "source": []
  },
  {
   "cell_type": "code",
   "execution_count": null,
   "metadata": {},
   "outputs": [],
   "source": []
  },
  {
   "cell_type": "code",
   "execution_count": null,
   "metadata": {},
   "outputs": [],
   "source": []
  },
  {
   "cell_type": "code",
   "execution_count": null,
   "metadata": {},
   "outputs": [],
   "source": []
  },
  {
   "cell_type": "code",
   "execution_count": null,
   "metadata": {},
   "outputs": [],
   "source": []
  },
  {
   "cell_type": "code",
   "execution_count": null,
   "metadata": {},
   "outputs": [],
   "source": []
  },
  {
   "cell_type": "code",
   "execution_count": null,
   "metadata": {},
   "outputs": [],
   "source": []
  },
  {
   "cell_type": "code",
   "execution_count": null,
   "metadata": {},
   "outputs": [],
   "source": []
  },
  {
   "cell_type": "code",
   "execution_count": null,
   "metadata": {},
   "outputs": [],
   "source": []
  },
  {
   "cell_type": "code",
   "execution_count": null,
   "metadata": {},
   "outputs": [],
   "source": []
  },
  {
   "cell_type": "code",
   "execution_count": null,
   "metadata": {},
   "outputs": [],
   "source": []
  },
  {
   "cell_type": "code",
   "execution_count": null,
   "metadata": {},
   "outputs": [],
   "source": []
  },
  {
   "cell_type": "code",
   "execution_count": null,
   "metadata": {},
   "outputs": [],
   "source": []
  },
  {
   "cell_type": "code",
   "execution_count": null,
   "metadata": {},
   "outputs": [],
   "source": []
  },
  {
   "cell_type": "code",
   "execution_count": null,
   "metadata": {},
   "outputs": [],
   "source": []
  },
  {
   "cell_type": "code",
   "execution_count": null,
   "metadata": {},
   "outputs": [],
   "source": []
  },
  {
   "cell_type": "code",
   "execution_count": null,
   "metadata": {},
   "outputs": [],
   "source": []
  },
  {
   "cell_type": "code",
   "execution_count": null,
   "metadata": {},
   "outputs": [],
   "source": []
  },
  {
   "cell_type": "code",
   "execution_count": null,
   "metadata": {},
   "outputs": [],
   "source": []
  },
  {
   "cell_type": "code",
   "execution_count": null,
   "metadata": {},
   "outputs": [],
   "source": []
  },
  {
   "cell_type": "code",
   "execution_count": null,
   "metadata": {},
   "outputs": [],
   "source": []
  },
  {
   "cell_type": "code",
   "execution_count": null,
   "metadata": {},
   "outputs": [],
   "source": []
  },
  {
   "cell_type": "code",
   "execution_count": null,
   "metadata": {},
   "outputs": [],
   "source": []
  },
  {
   "cell_type": "code",
   "execution_count": null,
   "metadata": {},
   "outputs": [],
   "source": []
  },
  {
   "cell_type": "code",
   "execution_count": null,
   "metadata": {},
   "outputs": [],
   "source": []
  },
  {
   "cell_type": "code",
   "execution_count": null,
   "metadata": {},
   "outputs": [],
   "source": []
  },
  {
   "cell_type": "code",
   "execution_count": null,
   "metadata": {},
   "outputs": [],
   "source": []
  },
  {
   "cell_type": "code",
   "execution_count": null,
   "metadata": {},
   "outputs": [],
   "source": []
  },
  {
   "cell_type": "code",
   "execution_count": null,
   "metadata": {},
   "outputs": [],
   "source": []
  },
  {
   "cell_type": "code",
   "execution_count": null,
   "metadata": {},
   "outputs": [],
   "source": []
  },
  {
   "cell_type": "code",
   "execution_count": null,
   "metadata": {},
   "outputs": [],
   "source": []
  },
  {
   "cell_type": "code",
   "execution_count": null,
   "metadata": {},
   "outputs": [],
   "source": []
  },
  {
   "cell_type": "code",
   "execution_count": null,
   "metadata": {},
   "outputs": [],
   "source": []
  },
  {
   "cell_type": "code",
   "execution_count": null,
   "metadata": {},
   "outputs": [],
   "source": []
  },
  {
   "cell_type": "code",
   "execution_count": null,
   "metadata": {},
   "outputs": [],
   "source": []
  },
  {
   "cell_type": "code",
   "execution_count": null,
   "metadata": {},
   "outputs": [],
   "source": []
  },
  {
   "cell_type": "code",
   "execution_count": null,
   "metadata": {},
   "outputs": [],
   "source": []
  },
  {
   "cell_type": "code",
   "execution_count": null,
   "metadata": {},
   "outputs": [],
   "source": []
  },
  {
   "cell_type": "code",
   "execution_count": null,
   "metadata": {},
   "outputs": [],
   "source": []
  },
  {
   "cell_type": "code",
   "execution_count": null,
   "metadata": {},
   "outputs": [],
   "source": []
  }
 ],
 "metadata": {
  "kernelspec": {
   "display_name": "Python 3.8.0 ('Yaho_mediapipe')",
   "language": "python",
   "name": "python3"
  },
  "language_info": {
   "codemirror_mode": {
    "name": "ipython",
    "version": 3
   },
   "file_extension": ".py",
   "mimetype": "text/x-python",
   "name": "python",
   "nbconvert_exporter": "python",
   "pygments_lexer": "ipython3",
   "version": "3.8.0"
  },
  "orig_nbformat": 4,
  "vscode": {
   "interpreter": {
    "hash": "c909e656828d4a150e346b759d061cc7476df017e2a3b84003da29efefb7a44b"
   }
  }
 },
 "nbformat": 4,
 "nbformat_minor": 2
}
