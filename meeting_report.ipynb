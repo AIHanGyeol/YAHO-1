{
 "cells": [
  {
   "cell_type": "markdown",
   "id": "134aa52c",
   "metadata": {},
   "source": [
    "# 요약문 작성 모델"
   ]
  },
  {
   "cell_type": "code",
   "execution_count": 71,
   "id": "0f54152e",
   "metadata": {},
   "outputs": [],
   "source": [
    "from transformers import AutoTokenizer, BartForConditionalGeneration\n",
    "import numpy as np\n",
    "import itertools\n",
    "from konlpy.tag import Mecab\n",
    "from sklearn.feature_extraction.text import CountVectorizer\n",
    "from sklearn.metrics.pairwise import cosine_similarity\n",
    "from sentence_transformers import SentenceTransformer"
   ]
  },
  {
   "cell_type": "code",
   "execution_count": 136,
   "id": "6eb0e6ea",
   "metadata": {},
   "outputs": [],
   "source": [
    "model_name = \"outputs/default-training/models/model-155epoch-102180steps-0.4105loss-0.9423acc\"\n",
    "# model_name = \"alaggung/bart-r3f\"\n",
    "max_length = 200\n",
    "num_beams = 5\n",
    "length_penalty = 1.2"
   ]
  },
  {
   "cell_type": "code",
   "execution_count": 77,
   "id": "10390a84",
   "metadata": {},
   "outputs": [],
   "source": [
    "# 요약시킬 데이터\n",
    "script=[\n",
    "    '한나: 안드레아. 미팅에 관한 정보 받았어요?',\n",
    "    '안드레아: 네, 받았어요. 고객서비스 책임자 핸슨씨가 미팅을 소집하고 날짜를 잡았어요.',\n",
    "    '안드레아: 안 계신 동안 미팅 안건을 전달하셨어요.',\n",
    "    '한나: 미팅이 언제죠?',\n",
    "    '안드레아: 다음주 수요일이에요. 그리고 아침 11시에 시작해서 3시까지 진행되요. 핸슨씨가 회의를 진행하실 거에요.',\n",
    "    '안드레아: 미팅에 참석하실 수 있으세요?',\n",
    "    '한나: 음, 그럴 것 같아요. 근데 미팅은 무슨 내용이에요?',\n",
    "    '안드레아: 문제 해결에 관한 미팅이에요.',\n",
    "    '안드레아: 고객들의 고객 서비스에 대한 불만 사항들을 토론한데요.',\n",
    "    '안드레아: 고객들이 우리의 서비스가 만족스럽지 않은 것이 판매감소요인이 되는 것 같으시데요.',\n",
    "    '안드레아: 아마도 제 생각엔 고객들의 만족을 높이는 해답을 찾는 것일 것 같아요.',\n",
    "    '안드레아: 핸슨씨가 저에게 직원들은 이 문제에 관한 생각들을 준비해오라고 하셨거든요.',\n",
    "    '한나: 누가 미팅에 참석하시나요?',\n",
    "    '안드레아: 모든 고객 서비스 직원들은 필수로 참석해야 한다고 들었어요. 인사부의 윌리암 프레슬리씨도 참석을 하신다고 했어요.',\n",
    "    '한나: 오래 걸릴 것 같군요. 다과가 있을까요?',\n",
    "    '안드레아: 방 뒤편에 다과를 준비해두실거에요'\n",
    "]"
   ]
  },
  {
   "cell_type": "code",
   "execution_count": 65,
   "id": "1e048f59",
   "metadata": {},
   "outputs": [],
   "source": [
    "script=[\n",
    "    '과장: 우선 저희 오렌지 캬라멜 앨범 기획이 진행을,',\n",
    "    '대리: 제가 준비한 것도 있고 지금 이따가 보여드리겠지만 좀 준비해 온 것도 있거든요.',\n",
    "    '대리: 왜냐면 너희가 그냥 했는데 그냥 하는 건 아니잖아요.',\n",
    "    '대리: 우리도 좀 준비한 게 있으니까 그것도 보면서 얘기했으면 좋겠고 고집을 피우고 싶은 건 아니에요.',\n",
    "    '대리: 내가 고집을 피우고 싶은 건 아니고 대신 아까도 얘기했지만 새로운 걸 하고 싶은 거예요.',\n",
    "    '대리: 참작의 고통을 같이 느끼고 싶다는 거지 그냥 있는 거 해서 우선 내가 준비한 것처럼 한 번 보면서 세상이나 이런 거는 예쁜 거 찾으면 예뻐 보이잖아 그런데 이걸 어떻게 꾸미냐도 되게 중요하거든요. 어떻게 보면',\n",
    "    '대리: 뭐 남은 것도 아니고 그리고 이제 요가 자세 좀 재미난 자세들이 그러니까 이런 게 어떻게 보면 정말 뭐하는 게얘기했지 케이클러스 아기 친구 조정사장님이 지금 표정이 많이 안',\n",
    "    '사원1: 급격히 어려워지셨습니다.',\n",
    "    '사원2: 재밌는데 아무래도 저희는 이제 아이돌이다. 보니까 일단 지켜야 될 선은 그래도',\n",
    "    '대리: 그런데 솔직히 여기 회사에서 체 변화 많이 하고 체 시도 많이 하고 어떻게 보면 정말 새로운 것들을 많이 하는 곳이 이곳인데 굳이 뭐 아이돌이어서 모여서',\n",
    "    '사원2: 제 이건 개인적인 생각일 수 있는데 저는 오케이가 어느 정도는 보호는 해줘야 된다고 저는 생각을 그러니까 뭐 너무 가버리게 되면',\n",
    "    '과장: 너무 웃긴 쪽으로',\n",
    "    '사원2: 망가지는 거는 어느 정도는 그러니까 이게 이제 콘셉트 들어볼 때 정태호 님이 생각하시는 거는 어떻게 보면 되게 개그 쪽에 가까운 일단 저희가 비주얼 콘셉트에 있어서',\n",
    "    '사원2: 저희 회사에서 잡은 걸로는 뮤직비디오 콘셉트은 저희가 생각한 거는 저희로서는 비주얼 콘셉트에서 이거는 이런 식으로 찍는다기보다는 이런 색감이나문양이라고 그러죠',\n",
    "    '사원2: 예예 그런 것들을 좀 이용해보면 어떨까라는 생각을',\n",
    "    '과장: 근데 사장님 저는 궁금한 게 이미 예를 들어서 회사에서 다 결정을 뭔가 콘셉트이나 다 내린 거라면은 여기 정태호 오빠도 하기 콘셉트 디렉터를',\n",
    "    '대리: 누가 오류가 없어',\n",
    "    '과장: 그게 무슨 의미가 되는 건지',\n",
    "    '사원2: 그러니까 지금 너무 갭이 크면 안 될 것 같아요.',\n",
    "    '대리: 그러니까 그거잖아요. 정해져 있는 거에 내가 색깔을 좀 입혀보자는 얘기잖아요.',\n",
    "    '과장: 만약에 콘셉트 같은 게 정해져 있는 거를 정재호 오빠가 알았다면 그래서 다 준비하신 게 있는',\n",
    "    '대리: 그러니까 매니저도 계속해서 진작에 얘기해서 그래야지 와서 계속 지금 입만 떠들고 입만 아프겠어요.',\n",
    "    '사원1: 손을 들어서 넘어갈까요. 안무 영상 보는 걸로 넘어갈 거야',\n",
    "    '대리: 아니 안무 누어 다 짰을 거 아니에요. 어차피',\n",
    "    '대리: 기본적으로 짰는데 부장님도 마찬가지로 이게 지금 웃긴 거야 다 정해져 있는데 자꾸 와가지고 나 입만 아프고 무슨 나 시험을 나 싫어하는 것도 아니고아니 그 생각이 안 돼요',\n",
    "    '대리: 굳이 정해져 있는 거면 얘기할 필요가 없으니까요. 아니 그러니까 뭐 통보를 해주든지 해야지 나도 오늘 지금 그냥 있는 것도 아니고 집에 있다고 나온 것도 아니고 인가 조건 촬영하고 있는데 그거 수탁 거르고 지금 나왔는데 아 나 손도 대었어',\n",
    "    '과장: 얘기를 미리 해 주셨으면',\n",
    "    '대리: 왜 이렇게 이렇게 오픈 소리 떨어지네 다 그럼 된 거 아니야 다 됐잖아 아무까지 다 나 했으면 정해줬으면 이거 제가 가져가도 되죠. 예 아니 바꿔 먹을까 진짜',\n",
    "    '사원1: 정리해 줘요.',\n",
    "    '과장: 그러면 그 의미가 없는데 그거를 미리 말씀을 해주니까 아니 그리 말해도 그렇게 우리 회사에서 알아서 다 정리하고 하고어느 정도 정해져 있는 거는 있어야 되게 만드는 것 같아요. 왜 이래요',\n",
    "    '사원3: 아니 왜 이렇게들 안 속아 아니 나는 나는 나는 더 더 더',\n",
    "    '대리: 제가 못하는 게 뭐냐 하면',\n",
    "    '사원3: 내 편을 맞아 그 뭐라고 하니까 친구들이 내 편을 보여주지 나보고 누가 한 마디 말도 안 된다고 해야지 내가 이거 확 올라오는데',\n",
    "    '대리: 근데 내가 일부러 자극시키려고 여기는 여기 안 해 그랬더니',\n",
    "    '사원3: 또 따갑다가 아니 이거 원래 그렇게 하면 안 돼 너무 진짜 이렇게 착하게 하니까 잠깐만 그 이야기 화로 하고 냈어야 나 나 같을 때 뭔 말하는지 알아요.',\n",
    "    '사원3: 사장님은 우리 도와주러 오셨는데 왜 저렇게 뛰게 말을 그리고 아빠가 usb 준비했는데 우리는 막 실컷 웃고 있는데 보고 막 정신 진짜 부사장님 왜 저러시나'\n",
    "]"
   ]
  },
  {
   "cell_type": "code",
   "execution_count": 34,
   "id": "7fce88a7",
   "metadata": {},
   "outputs": [],
   "source": [
    "doc = '''우선 저희 오렌지 캬라멜 앨범 기획이 진행을\n",
    "제가 준비한 것도 있고 지금 이따가 보여드리겠지만 좀 준비해 온 것도 있거든요. \n",
    "왜냐면 너희가 그냥 했는데 그냥 하는 건 아니잖아요. \n",
    "우리도 좀 준비한 게 있으니까 그것도 보면서 얘기했으면 좋겠고 고집을 피우고 싶은 건 아니에요. \n",
    "내가 고집을 피우고 싶은 건 아니고 대신 아까도 얘기했지만 새로운 걸 하고 싶은 거예요. \n",
    "참작의 고통을 같이 느끼고 싶다는 거지 그냥 있는 거 해서 우선 내가 준비한 것처럼 한 번 보면서 세상이나 이런 거는 예쁜 거 찾으면 예뻐 보이잖아 그런데 이걸 어떻게 꾸미냐도 되게 중요하거든요. \n",
    "어떻게 보면\n",
    "뭐 남은 것도 아니고 그리고 이제 요가 자세 좀 재미난 자세들이 그러니까 이런 게 어떻게 보면 정말 뭐하는 게\n",
    "얘기했지 케이클러스 아기 친구 조정\n",
    "사장님이 지금 표정이 많이 안\n",
    "급격히 어려워지셨습니다.\n",
    "재밌는데 아무래도 저희는 이제 아이돌이다. \n",
    "보니까 일단 지켜야 될 선은 그래도\n",
    "그런데 솔직히 여기 회사에서 체 변화 많이 하고 체 시도 많이 하고 어떻게 보면 정말 새로운 것들을 많이 하는 곳이 이곳인데 굳이 뭐 아이돌이어서 모여서\n",
    "제 이건 개인적인 생각일 수 있는데 저는 오케이가 어느 정도는 보호는 해줘야 된다고 저는 생각을\n",
    "그러니까 뭐 너무 가버리게 되면\n",
    "너무 웃긴 쪽으로\n",
    "망가지는 거는 어느 정도는 그러니까 이게 이제 콘셉트 들어볼 때 정태호 님이 생각하시는 거는 어떻게 보면 되게 개그 쪽에 가까운 일단 저희가 비주얼 콘셉트에 있어서 저희 회사에서 잡은 걸로는 뮤직비디오 콘셉트은 저희가 생각한 거는 저희로서는 비주얼 콘셉트에서 이거는 이런 식으로 찍는다기보다는 이런 색감이나\n",
    "문양이라고 그러죠 예예 그런 것들을 좀 이용해보면 어떨까라는 생각을\n",
    "근데 사장님 저는 궁금한 게 이미 예를 들어서 회사에서 다 결정을 뭔가 콘셉트이나 다 내린 거라면은 여기 정태호 오빠도 하기 콘셉트 디렉터를\n",
    "누가 오류가 없어\n",
    "그게 무슨 의미가 되는 건지\n",
    "그러니까 지금 너무 갭이 크면 안 될 것 같아요.\n",
    "그러니까 그거잖아요. 정해져 있는 거에 내가 색깔을 좀 입혀보자는 얘기잖아요.\n",
    "만약에 콘셉트 같은 게 정해져 있는 거를 정재호 오빠가 알았다면 그래서 다 준비하신 게 있는\n",
    "그러니까 매니저도 계속해서 진작에 얘기해서 그래야지 와서 계속 지금 입만 떠들고 입만 아프겠어요.\n",
    "손을 들어서 넘어갈까요. 안무 영상 보는 걸로 넘어갈 거야\n",
    "아니 안무 누어 다 짰을 거 아니에요. \n",
    "어차피\n",
    "기본적으로 짰는데 부장님도 마찬가지로 이게 지금 웃긴 거야 다 정해져 있는데 자꾸 와가지고 나 입만 아프고 무슨 나 시험을 나 싫어하는 것도 아니고\n",
    "아니 그 생각이 안 돼요 굳이 정해져 있는 거면 얘기할 필요가 없으니까요. \n",
    "아니 그러니까 뭐 통보를 해주든지 해야지 나도 오늘 지금 그냥 있는 것도 아니고 집에 있다고 나온 것도 아니고 인가 조건 촬영하고 있는데 그거 수탁 거르고 지금 나왔는데 아 나 손도 대었어\n",
    "얘기를 미리 해 주셨으면\n",
    "왜 이렇게 이렇게 오픈 소리 떨어지네 다 그럼 된 거 아니야 다 됐잖아 아무까지 다 나 했으면 정해줬으면 이거 제가 가져가도 되죠. \n",
    "예\n",
    "아니 바꿔 먹을까 진짜\n",
    "정리해 줘요.\n",
    "그러면 그 의미가 없는데 그거를 미리 말씀을 해주니까 아니 그리 말해도 그렇게 우리 회사에서 알아서 다 정리하고 하고\n",
    "어느 정도 정해져 있는 거는 있어야 되게 만드는 것 같아요.\n",
    "왜 이래요\n",
    "아니 왜 이렇게들 안 속아\n",
    "아니 나는 나는 나는 더 더 더\n",
    "제가 못하는 게 뭐냐 하면\n",
    "내 편을 맞아 그 뭐라고 하니까 친구들이 내 편을 보여주지 나보고 누가 한 마디 말도 안 된다고 해야지 내가 이거 확 올라오는데\n",
    "근데 내가 일부러 자극시키려고 여기는 여기 안 해 그랬더니\n",
    "또 따갑다가 아니 이거 원래 그렇게 하면 안 돼 너무 진짜 이렇게 착하게 하니까 잠깐만 그 이야기 화로 하고 냈어야\n",
    "나 나 같을 때 뭔 말하는지 알아요. \n",
    "사장님은 우리 도와주러 오셨는데 왜 저렇게 뛰게 말을 그리고 아빠가 usb 준비했는데 우리는 막 실컷 웃고 있는데 보고 막 정신 진짜 부사장님 왜 저러시나'''"
   ]
  },
  {
   "cell_type": "code",
   "execution_count": 133,
   "id": "ce66ffca",
   "metadata": {},
   "outputs": [],
   "source": [
    "# 요약 추론 모델\n",
    "def inference(dialogue):\n",
    "    tokenizer = AutoTokenizer.from_pretrained(\"resources/tokenizers/unigram_4K\")\n",
    "    model = BartForConditionalGeneration.from_pretrained(model_name)\n",
    "    model.eval()\n",
    "    print(model.eval())\n",
    "    inputs = tokenizer(\"[BOS]\" + \"[SEP]\".join(dialogue) + \"[EOS]\", return_tensors=\"pt\")\n",
    "    outputs = model.generate(\n",
    "        inputs.input_ids,\n",
    "        attention_mask=inputs.attention_mask,\n",
    "        num_beams=num_beams,\n",
    "        length_penalty=length_penalty,\n",
    "        max_length=max_length,\n",
    "        use_cache=True,\n",
    "    )\n",
    "    summarization = tokenizer.decode(outputs[0], skip_special_tokens=True)\n",
    "    return summarization"
   ]
  },
  {
   "cell_type": "code",
   "execution_count": 140,
   "id": "219dea4b",
   "metadata": {},
   "outputs": [
    {
     "data": {
      "text/plain": [
       "BartConfig {\n",
       "  \"_name_or_path\": \"outputs/default-training/models/model-155epoch-102180steps-0.4105loss-0.9423acc\",\n",
       "  \"activation_dropout\": 0.1,\n",
       "  \"activation_function\": \"gelu\",\n",
       "  \"architectures\": [\n",
       "    \"BartForConditionalGeneration\"\n",
       "  ],\n",
       "  \"attention_dropout\": 0.1,\n",
       "  \"bos_token_id\": 2,\n",
       "  \"classifier_dropout\": 0.1,\n",
       "  \"d_model\": 512,\n",
       "  \"decoder_attention_heads\": 8,\n",
       "  \"decoder_ffn_dim\": 2048,\n",
       "  \"decoder_layerdrop\": 0.0,\n",
       "  \"decoder_layers\": 2,\n",
       "  \"decoder_start_token_id\": 2,\n",
       "  \"dropout\": 0.5,\n",
       "  \"encoder_attention_heads\": 8,\n",
       "  \"encoder_ffn_dim\": 2048,\n",
       "  \"encoder_layerdrop\": 0.0,\n",
       "  \"encoder_layers\": 2,\n",
       "  \"eos_token_id\": 3,\n",
       "  \"forced_eos_token_id\": 3,\n",
       "  \"id2label\": {\n",
       "    \"0\": \"LABEL_0\",\n",
       "    \"1\": \"LABEL_1\",\n",
       "    \"2\": \"LABEL_2\"\n",
       "  },\n",
       "  \"init_std\": 0.02,\n",
       "  \"is_encoder_decoder\": true,\n",
       "  \"label2id\": {\n",
       "    \"LABEL_0\": 0,\n",
       "    \"LABEL_1\": 1,\n",
       "    \"LABEL_2\": 2\n",
       "  },\n",
       "  \"max_position_embeddings\": 512,\n",
       "  \"model_type\": \"bart\",\n",
       "  \"num_hidden_layers\": 2,\n",
       "  \"pad_token_id\": 0,\n",
       "  \"scale_embedding\": false,\n",
       "  \"torch_dtype\": \"float32\",\n",
       "  \"transformers_version\": \"4.23.1\",\n",
       "  \"use_cache\": false,\n",
       "  \"vocab_size\": 4000\n",
       "}"
      ]
     },
     "execution_count": 140,
     "metadata": {},
     "output_type": "execute_result"
    }
   ],
   "source": [
    "model = BartForConditionalGeneration.from_pretrained(model_name)\n",
    "model.config"
   ]
  },
  {
   "cell_type": "code",
   "execution_count": 126,
   "id": "8e70bd9b",
   "metadata": {},
   "outputs": [
    {
     "data": {
      "text/plain": [
       "'아침과 설슨 중 미팅 있는 달'"
      ]
     },
     "execution_count": 126,
     "metadata": {},
     "output_type": "execute_result"
    }
   ],
   "source": [
    "inference(script)"
   ]
  },
  {
   "cell_type": "markdown",
   "id": "72322247",
   "metadata": {},
   "source": [
    "## 키워드 분석 모델"
   ]
  },
  {
   "cell_type": "code",
   "execution_count": 80,
   "id": "11a91418",
   "metadata": {},
   "outputs": [],
   "source": [
    "doc = ' '.join(script)"
   ]
  },
  {
   "cell_type": "code",
   "execution_count": 93,
   "id": "d06f1aa6",
   "metadata": {},
   "outputs": [
    {
     "name": "stdout",
     "output_type": "stream",
     "text": [
      "품사 태깅 10개만 출력 : [('한나', 'NR'), (':', 'SC'), ('안드레아', 'NNG'), ('.', 'SY'), ('미팅', 'NNG'), ('에', 'JKB'), ('관한', 'VV+ETM'), ('정보', 'NNG'), ('받', 'VV'), ('았', 'EP')]\n",
      "명사 추출 : 미팅 정보 고객 서비스 책임자 미팅 소집 날짜 동안 미팅 안건 전달 미팅 다음 주 수요일 아침 시작 진행 회의 진행 미팅 참석 미팅 내용 문제 해결 미팅 고객 고객 서비스 불만 사항 토론 고객 서비스 만족 판매 감소 요인 생각 고객 만족 해답 직원 문제 생각 준비 미팅 참석 고객 서비스 직원 필수 참석 인사 부 참석 다과 방 뒤편 다과 준비\n"
     ]
    }
   ],
   "source": [
    "mc = Mecab()\n",
    "\n",
    "tokenized_doc = mc.pos(doc)\n",
    "tokenized_nouns = ' '.join([word[0] for word in tokenized_doc if word[1] == 'NNG' and word[0] != '안드레아'])\n",
    "\n",
    "print('품사 태깅 10개만 출력 :',tokenized_doc[:10])\n",
    "print('명사 추출 :',tokenized_nouns)"
   ]
  },
  {
   "cell_type": "markdown",
   "id": "b388aeaf",
   "metadata": {},
   "source": [
    "사이킷런의 CountVectorizer를 사용하여 단어를 추출합니다.  \n",
    "CountVectorizer를 사용하는 이유는 n_gram_range의 인자를 사용하면 쉽게 n-gram을 추출할 수 있기 때문입니다.  \n",
    "예를 들어, (2, 3)으로 설정하면 결과 후보는 2개의 단어를 한 묶음으로 간주하는 bigram과  \n",
    "3개의 단어를 한 묶음으로 간주하는 trigram을 추출합니다."
   ]
  },
  {
   "cell_type": "code",
   "execution_count": 94,
   "id": "98130037",
   "metadata": {},
   "outputs": [
    {
     "name": "stdout",
     "output_type": "stream",
     "text": [
      "trigram 개수 : 113\n",
      "trigram 다섯개만 출력 : ['감소 요인' '감소 요인 생각' '고객 고객' '고객 고객 서비스' '고객 만족']\n"
     ]
    }
   ],
   "source": [
    "n_gram_range = (2, 3)\n",
    "\n",
    "count = CountVectorizer(ngram_range=n_gram_range).fit([tokenized_nouns])\n",
    "candidates = count.get_feature_names_out()\n",
    "\n",
    "print('trigram 개수 :',len(candidates))\n",
    "print('trigram 다섯개만 출력 :',candidates[:5])"
   ]
  },
  {
   "cell_type": "markdown",
   "id": "c78d521d",
   "metadata": {},
   "source": [
    "## 키워드들을 수치화해주는 모델"
   ]
  },
  {
   "cell_type": "code",
   "execution_count": 95,
   "id": "216f2e59",
   "metadata": {},
   "outputs": [],
   "source": [
    "model = SentenceTransformer('sentence-transformers/xlm-r-100langs-bert-base-nli-stsb-mean-tokens')\n",
    "doc_embedding = model.encode([doc])\n",
    "candidate_embeddings = model.encode(candidates)"
   ]
  },
  {
   "cell_type": "markdown",
   "id": "eeb0bd57",
   "metadata": {},
   "source": [
    "문서와 가장 유사한 키워드들은 문서를 대표하기 위한 좋은 키워드라고 가정한다."
   ]
  },
  {
   "cell_type": "code",
   "execution_count": 96,
   "id": "6eca738d",
   "metadata": {},
   "outputs": [
    {
     "name": "stdout",
     "output_type": "stream",
     "text": [
      "['회의 진행', '미팅 소집 날짜', '시작 진행 회의', '회의 진행 미팅', '미팅 소집']\n"
     ]
    }
   ],
   "source": [
    "top_n = 5\n",
    "distances = cosine_similarity(doc_embedding, candidate_embeddings)\n",
    "keywords = [candidates[index] for index in distances.argsort()[0][-top_n:]]\n",
    "print(keywords)"
   ]
  },
  {
   "cell_type": "markdown",
   "id": "b2150698",
   "metadata": {},
   "source": [
    "# Max Sum Similarity"
   ]
  },
  {
   "cell_type": "code",
   "execution_count": 97,
   "id": "bb63f7ae",
   "metadata": {},
   "outputs": [],
   "source": [
    "def max_sum_sim(doc_embedding, candidate_embeddings, words, top_n, nr_candidates):\n",
    "    # 문서와 각 키워드들 간의 유사도\n",
    "    distances = cosine_similarity(doc_embedding, candidate_embeddings)\n",
    "\n",
    "    # 각 키워드들 간의 유사도\n",
    "    distances_candidates = cosine_similarity(candidate_embeddings, \n",
    "                                            candidate_embeddings)\n",
    "\n",
    "    # 코사인 유사도에 기반하여 키워드들 중 상위 top_n개의 단어를 pick.\n",
    "    words_idx = list(distances.argsort()[0][-nr_candidates:])\n",
    "    words_vals = [candidates[index] for index in words_idx]\n",
    "    distances_candidates = distances_candidates[np.ix_(words_idx, words_idx)]\n",
    "\n",
    "    # 각 키워드들 중에서 가장 덜 유사한 키워드들간의 조합을 계산\n",
    "    min_sim = np.inf\n",
    "    candidate = None\n",
    "    for combination in itertools.combinations(range(len(words_idx)), top_n):\n",
    "        sim = sum([distances_candidates[i][j] for i in combination for j in combination if i != j])\n",
    "        if sim < min_sim:\n",
    "            candidate = combination\n",
    "            min_sim = sim\n",
    "\n",
    "    return [words_vals[idx] for idx in candidate]"
   ]
  },
  {
   "cell_type": "code",
   "execution_count": 98,
   "id": "e70ecf46",
   "metadata": {},
   "outputs": [
    {
     "data": {
      "text/plain": [
       "['토론 고객 서비스', '토론 고객', '다음 수요일', '소집 날짜', '문제 해결 미팅']"
      ]
     },
     "execution_count": 98,
     "metadata": {},
     "output_type": "execute_result"
    }
   ],
   "source": [
    "max_sum_sim(doc_embedding, candidate_embeddings, candidates, top_n=5, nr_candidates=30)"
   ]
  },
  {
   "cell_type": "markdown",
   "id": "db59aaaa",
   "metadata": {},
   "source": [
    "# Maximal Marginal Relevance\n",
    "결과를 다양화하는 마지막 방법은 MMR(Maximum Limit Relegance)입니다.  \n",
    "MMR은 텍스트 요약 작업에서 중복을 최소화하고 결과의 다양성을 극대화하기 위해 노력합니다.  \n",
    "참고 할 수 있는 자료로 EmbedRank(https://arxiv.org/pdf/1801.04470.pdf) 라는 키워드 추출 알고리즘은 키워드/키프레이즈를 다양화하는 데 사용할 수 있는 MMR을 구현했습니다.  \n",
    "먼저 문서와 가장 유사한 키워드/키프레이즈를 선택합니다. 그런 다음 문서와 유사하고 이미 선택된 키워드/키프레이즈와 유사하지 않은 새로운 후보를 반복적으로 선택합니다."
   ]
  },
  {
   "cell_type": "code",
   "execution_count": 99,
   "id": "ae529a6d",
   "metadata": {},
   "outputs": [],
   "source": [
    "def mmr(doc_embedding, candidate_embeddings, words, top_n, diversity):\n",
    "\n",
    "    # 문서와 각 키워드들 간의 유사도가 적혀있는 리스트\n",
    "    word_doc_similarity = cosine_similarity(candidate_embeddings, doc_embedding)\n",
    "\n",
    "    # 각 키워드들 간의 유사도\n",
    "    word_similarity = cosine_similarity(candidate_embeddings)\n",
    "\n",
    "    # 문서와 가장 높은 유사도를 가진 키워드의 인덱스를 추출.\n",
    "    # 만약, 2번 문서가 가장 유사도가 높았다면\n",
    "    # keywords_idx = [2]\n",
    "    keywords_idx = [np.argmax(word_doc_similarity)]\n",
    "\n",
    "    # 가장 높은 유사도를 가진 키워드의 인덱스를 제외한 문서의 인덱스들\n",
    "    # 만약, 2번 문서가 가장 유사도가 높았다면\n",
    "    # ==> candidates_idx = [0, 1, 3, 4, 5, 6, 7, 8, 9, 10 ... 중략 ...]\n",
    "    candidates_idx = [i for i in range(len(words)) if i != keywords_idx[0]]\n",
    "\n",
    "    # 최고의 키워드는 이미 추출했으므로 top_n-1번만큼 아래를 반복.\n",
    "    # ex) top_n = 5라면, 아래의 loop는 4번 반복됨.\n",
    "    for _ in range(top_n - 1):\n",
    "        candidate_similarities = word_doc_similarity[candidates_idx, :]\n",
    "        target_similarities = np.max(word_similarity[candidates_idx][:, keywords_idx], axis=1)\n",
    "\n",
    "        # MMR을 계산\n",
    "        mmr = (1-diversity) * candidate_similarities - diversity * target_similarities.reshape(-1, 1)\n",
    "        mmr_idx = candidates_idx[np.argmax(mmr)]\n",
    "\n",
    "        # keywords & candidates를 업데이트\n",
    "        keywords_idx.append(mmr_idx)\n",
    "        candidates_idx.remove(mmr_idx)\n",
    "\n",
    "    return [words[idx] for idx in keywords_idx]"
   ]
  },
  {
   "cell_type": "code",
   "execution_count": 100,
   "id": "5cbafa3a",
   "metadata": {},
   "outputs": [
    {
     "data": {
      "text/plain": [
       "['미팅 소집', '판매 감소 요인', '고객 만족 해답', '다음 수요일', '직원 문제']"
      ]
     },
     "execution_count": 100,
     "metadata": {},
     "output_type": "execute_result"
    }
   ],
   "source": [
    "keyword = mmr(doc_embedding, candidate_embeddings, candidates, top_n=5, diversity=0.7)\n",
    "keyword"
   ]
  },
  {
   "cell_type": "markdown",
   "id": "e0e133d2",
   "metadata": {},
   "source": [
    "### 특징 키워드가 포함된 문장들만 추출"
   ]
  },
  {
   "cell_type": "code",
   "execution_count": 101,
   "id": "e518dc1b",
   "metadata": {},
   "outputs": [],
   "source": [
    "# 자카드 유사도\n",
    "def jaccard_similarity(keyword, text):\n",
    "    key = set(keyword)\n",
    "    txt = set(text)\n",
    "    return float(len(key.intersection(txt)) / len(key.union(txt)))    "
   ]
  },
  {
   "cell_type": "code",
   "execution_count": 102,
   "id": "7055312c",
   "metadata": {},
   "outputs": [],
   "source": [
    "# 문장 형태소 분리\n",
    "def get_pos(sentence):\n",
    "    tokenized_doc = mc.pos(sentence)\n",
    "    return [word[0] for word in tokenized_doc if word[1] == 'NNG']"
   ]
  },
  {
   "cell_type": "code",
   "execution_count": 127,
   "id": "6ab73a8e",
   "metadata": {
    "scrolled": true
   },
   "outputs": [
    {
     "name": "stdout",
     "output_type": "stream",
     "text": [
      "--원본 스크립트--\n",
      "한나: 안드레아. 미팅에 관한 정보 받았어요? 유사도: 0.25\n",
      "---요약본---\n",
      "선호하는 가장 많은 방문\n",
      "----------------------------------------------------------------------------------------------------\n",
      "--원본 스크립트--\n",
      "안드레아: 네, 받았어요. 고객서비스 책임자 핸슨씨가 미팅을 소집하고 날짜를 잡았어요. 유사도: 0.2857142857142857\n",
      "---요약본---\n",
      "늦으면 미리 가기\n",
      "----------------------------------------------------------------------------------------------------\n",
      "--원본 스크립트--\n",
      "안드레아: 안 계신 동안 미팅 안건을 전달하셨어요. 유사도: 0.16666666666666666\n",
      "---요약본---\n",
      "늦으면 미리 사유를 알려주기\n",
      "----------------------------------------------------------------------------------------------------\n",
      "--원본 스크립트--\n",
      "한나: 미팅이 언제죠? 유사도: 0.5\n",
      "---요약본---\n",
      "지금 하는 것\n",
      "----------------------------------------------------------------------------------------------------\n",
      "--원본 스크립트--\n",
      "안드레아: 미팅에 참석하실 수 있으세요? 유사도: 0.25\n",
      "---요약본---\n",
      "레석석과 보러 가기 위해 사용하는 것\n",
      "----------------------------------------------------------------------------------------------------\n",
      "--원본 스크립트--\n",
      "한나: 음, 그럴 것 같아요. 근데 미팅은 무슨 내용이에요? 유사도: 0.3333333333333333\n",
      "---요약본---\n",
      "지금 하는 것이 선호하는지\n",
      "----------------------------------------------------------------------------------------------------\n",
      "--원본 스크립트--\n",
      "안드레아: 문제 해결에 관한 미팅이에요. 유사도: 0.2\n",
      "---요약본---\n",
      "선호하는 방문이 늦지 않기\n",
      "----------------------------------------------------------------------------------------------------\n",
      "--원본 스크립트--\n",
      "한나: 누가 미팅에 참석하시나요? 유사도: 0.3333333333333333\n",
      "---요약본---\n",
      "선석석과 에너지 않기\n",
      "----------------------------------------------------------------------------------------------------\n",
      "--원본 스크립트--\n",
      "안드레아: 고객들이 우리의 서비스가 만족스럽지 않은 것이 판매감소요인이 되는 것 같으시데요. 유사도: 0.42857142857142855\n",
      "---요약본---\n",
      "늦으면 미리 가기\n",
      "----------------------------------------------------------------------------------------------------\n",
      "--원본 스크립트--\n",
      "안드레아: 네, 받았어요. 고객서비스 책임자 핸슨씨가 미팅을 소집하고 날짜를 잡았어요. 유사도: 0.1111111111111111\n",
      "---요약본---\n",
      "늦으면 미리 가기\n",
      "----------------------------------------------------------------------------------------------------\n",
      "--원본 스크립트--\n",
      "안드레아: 고객들의 고객 서비스에 대한 불만 사항들을 토론한데요. 유사도: 0.125\n",
      "---요약본---\n",
      "항 하루 세탁기의 총 세탁 시간\n",
      "----------------------------------------------------------------------------------------------------\n",
      "--원본 스크립트--\n",
      "안드레아: 고객들이 우리의 서비스가 만족스럽지 않은 것이 판매감소요인이 되는 것 같으시데요. 유사도: 0.25\n",
      "---요약본---\n",
      "늦으면 미리 가기\n",
      "----------------------------------------------------------------------------------------------------\n",
      "--원본 스크립트--\n",
      "안드레아: 아마도 제 생각엔 고객들의 만족을 높이는 해답을 찾는 것일 것 같아요. 유사도: 0.6\n",
      "---요약본---\n",
      "요리 레시 선호하는 방법\n",
      "----------------------------------------------------------------------------------------------------\n",
      "--원본 스크립트--\n",
      "안드레아: 모든 고객 서비스 직원들은 필수로 참석해야 한다고 들었어요. 인사부의 윌리암 프레슬리씨도 참석을 하신다고 했어요. 유사도: 0.1\n",
      "---요약본---\n",
      "씨가 연락은 조석과 암기 중 선호하는 것\n",
      "----------------------------------------------------------------------------------------------------\n",
      "--원본 스크립트--\n",
      "안드레아: 다음주 수요일이에요. 그리고 아침 11시에 시작해서 3시까지 진행되요. 핸슨씨가 회의를 진행하실 거에요. 유사도: 0.25\n",
      "---요약본---\n",
      "에 에어와 진행 가기 중 선호하는 것\n",
      "----------------------------------------------------------------------------------------------------\n",
      "--원본 스크립트--\n",
      "안드레아: 문제 해결에 관한 미팅이에요. 유사도: 0.2\n",
      "---요약본---\n",
      "선호하는 방문이 늦지 않기\n",
      "----------------------------------------------------------------------------------------------------\n",
      "--원본 스크립트--\n",
      "안드레아: 핸슨씨가 저에게 직원들은 이 문제에 관한 생각들을 준비해오라고 하셨거든요. 유사도: 0.4\n",
      "---요약본---\n",
      "선호하는 라디 빠지지 않기\n",
      "----------------------------------------------------------------------------------------------------\n",
      "--원본 스크립트--\n",
      "안드레아: 모든 고객 서비스 직원들은 필수로 참석해야 한다고 들었어요. 인사부의 윌리암 프레슬리씨도 참석을 하신다고 했어요. 유사도: 0.1111111111111111\n",
      "---요약본---\n",
      "씨가 연락은 조석과 암기 중 선호하는 것\n",
      "----------------------------------------------------------------------------------------------------\n"
     ]
    }
   ],
   "source": [
    "for key in keyword:\n",
    "    for txt in script:\n",
    "        pos = get_pos(txt)\n",
    "        sim = jaccard_similarity(key.split(), pos)\n",
    "        if sim > 0:\n",
    "            print('--원본 스크립트--')\n",
    "            print(txt, f'유사도: {sim}')\n",
    "            \n",
    "            print('---요약본---')\n",
    "            print(inference(txt))\n",
    "            print('-' * 100)"
   ]
  },
  {
   "cell_type": "code",
   "execution_count": 123,
   "id": "8bed3148",
   "metadata": {
    "scrolled": true
   },
   "outputs": [
    {
     "name": "stdout",
     "output_type": "stream",
     "text": [
      "False\n",
      "False\n",
      "False\n",
      "False\n",
      "False\n",
      "False\n",
      "False\n",
      "False\n",
      "False\n",
      "False\n",
      "False\n",
      "False\n",
      "False\n",
      "False\n",
      "False\n",
      "False\n",
      "False\n",
      "False\n",
      "False\n",
      "False\n",
      "False\n",
      "False\n",
      "False\n",
      "False\n",
      "False\n",
      "False\n",
      "False\n",
      "False\n",
      "False\n",
      "False\n",
      "False\n",
      "False\n",
      "False\n",
      "False\n",
      "False\n",
      "False\n",
      "False\n",
      "False\n",
      "False\n",
      "False\n",
      "False\n",
      "False\n",
      "False\n",
      "False\n",
      "False\n",
      "False\n",
      "False\n",
      "False\n",
      "False\n",
      "False\n",
      "False\n",
      "False\n",
      "False\n",
      "False\n",
      "False\n",
      "False\n",
      "False\n",
      "False\n",
      "False\n",
      "False\n",
      "False\n",
      "False\n",
      "False\n",
      "False\n",
      "False\n",
      "False\n",
      "False\n",
      "False\n",
      "False\n",
      "False\n",
      "False\n",
      "False\n",
      "False\n",
      "False\n",
      "False\n",
      "False\n",
      "False\n",
      "False\n",
      "False\n",
      "False\n"
     ]
    }
   ],
   "source": [
    "for key in keyword:\n",
    "    for txt in script:\n",
    "        pos = get_pos(txt)\n",
    "        print(key.split() in pos)\n",
    "        if key.split() in pos.:\n",
    "            print(txt)\n",
    "#         pos = get_pos(txt)\n",
    "#         sim = jaccard_similarity(key.split(), pos)\n",
    "#         if sim > 0:\n",
    "#             print('--원본 스크립트--')\n",
    "#             print(txt, f'유사도: {sim}')\n",
    "            \n",
    "#             print('---요약본---')\n",
    "#             print(inference(txt))\n",
    "#             print('-' * 100)"
   ]
  },
  {
   "cell_type": "code",
   "execution_count": null,
   "id": "521a8df7",
   "metadata": {},
   "outputs": [],
   "source": []
  }
 ],
 "metadata": {
  "kernelspec": {
   "display_name": "Python 3.8.0 ('yaho_flask')",
   "language": "python",
   "name": "python3"
  },
  "language_info": {
   "codemirror_mode": {
    "name": "ipython",
    "version": 3
   },
   "file_extension": ".py",
   "mimetype": "text/x-python",
   "name": "python",
   "nbconvert_exporter": "python",
   "pygments_lexer": "ipython3",
   "version": "3.8.0"
  },
  "vscode": {
   "interpreter": {
    "hash": "685e411d7ede21525131308606df3d240c9f863a75d30e3167dd306fbd5cfdf5"
   }
  }
 },
 "nbformat": 4,
 "nbformat_minor": 5
}
